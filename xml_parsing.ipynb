{
 "cells": [
  {
   "cell_type": "code",
   "execution_count": 1,
   "metadata": {},
   "outputs": [
    {
     "name": "stdout",
     "output_type": "stream",
     "text": [
      "data\n",
      "------------------------------\n",
      "country\n",
      "------------------------------\n",
      "rank\n",
      "------------------------------\n",
      "year\n",
      "------------------------------\n",
      "gdppc\n",
      "------------------------------\n",
      "neighbor\n",
      "------------------------------\n",
      "neighbor\n",
      "------------------------------\n",
      "country\n",
      "------------------------------\n",
      "rank\n",
      "------------------------------\n",
      "year\n",
      "------------------------------\n",
      "gdppc\n",
      "------------------------------\n",
      "neighbor\n",
      "------------------------------\n",
      "country\n",
      "------------------------------\n",
      "rank\n",
      "------------------------------\n",
      "year\n",
      "------------------------------\n",
      "gdppc\n",
      "------------------------------\n",
      "neighbor\n",
      "------------------------------\n",
      "neighbor\n",
      "------------------------------\n"
     ]
    }
   ],
   "source": [
    "import xml.etree.ElementTree as ET\n",
    "\n",
    "doc = ET.parse('/home/ljj0512/private/workspace/test_xml.xml')\n",
    "root = doc.getroot()\n",
    "for tags in root.iter():\n",
    "    print(tags.tag)\n",
    "    # print(type(tags.tag))\n",
    "    print('-'*30)\n",
    "# print(root)"
   ]
  },
  {
   "cell_type": "code",
   "execution_count": null,
   "metadata": {},
   "outputs": [],
   "source": []
  }
 ],
 "metadata": {
  "kernelspec": {
   "display_name": "Python 3.8.13 ('torch')",
   "language": "python",
   "name": "python3"
  },
  "language_info": {
   "codemirror_mode": {
    "name": "ipython",
    "version": 3
   },
   "file_extension": ".py",
   "mimetype": "text/x-python",
   "name": "python",
   "nbconvert_exporter": "python",
   "pygments_lexer": "ipython3",
   "version": "3.8.13"
  },
  "orig_nbformat": 4,
  "vscode": {
   "interpreter": {
    "hash": "65fe116ec29312474b580f4ecbad52a94f46ea3a142b15e85ff8e68848a207e7"
   }
  }
 },
 "nbformat": 4,
 "nbformat_minor": 2
}
