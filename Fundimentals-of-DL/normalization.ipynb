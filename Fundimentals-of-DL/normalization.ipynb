{
 "cells": [
  {
   "cell_type": "code",
   "execution_count": 2,
   "metadata": {},
   "outputs": [],
   "source": [
    "import torch\n",
    "import torch.nn as nn"
   ]
  },
  {
   "attachments": {},
   "cell_type": "markdown",
   "metadata": {},
   "source": [
    "# Batch Norm"
   ]
  },
  {
   "cell_type": "code",
   "execution_count": 23,
   "metadata": {},
   "outputs": [
    {
     "name": "stdout",
     "output_type": "stream",
     "text": [
      "tensor([[[[3., 4.],\n",
      "          [5., 6.]]],\n",
      "\n",
      "\n",
      "        [[[1., 2.],\n",
      "          [3., 4.]]]])\n",
      "torch.Size([2, 1, 2, 2])\n",
      "\n",
      "tensor([[[[-0.3333,  0.3333],\n",
      "          [ 1.0000,  1.6667]]],\n",
      "\n",
      "\n",
      "        [[[-1.6667, -1.0000],\n",
      "          [-0.3333,  0.3333]]]], grad_fn=<NativeBatchNormBackward0>)\n",
      "torch.Size([2, 1, 2, 2])\n"
     ]
    }
   ],
   "source": [
    "x = torch.Tensor([\n",
    "    [[\n",
    "        [3,4],\n",
    "        [5,6]\n",
    "    ]]\n",
    "    ,\n",
    "    [[\n",
    "        [1,2],\n",
    "        [3,4]\n",
    "    ]]\n",
    "])\n",
    "print(x)\n",
    "print(x.shape)\n",
    "print()\n",
    "\n",
    "\n",
    "x = nn.BatchNorm2d(1)(x)\n",
    "print(x)\n",
    "print(x.shape)"
   ]
  },
  {
   "attachments": {},
   "cell_type": "markdown",
   "metadata": {},
   "source": [
    "# Layer Norm"
   ]
  },
  {
   "cell_type": "code",
   "execution_count": 21,
   "metadata": {},
   "outputs": [
    {
     "name": "stdout",
     "output_type": "stream",
     "text": [
      "tensor([[5., 6., 7.],\n",
      "        [3., 4., 5.]])\n",
      "torch.Size([2, 3])\n",
      "\n",
      "tensor([[-1.2247e+00,  2.3842e-07,  1.2247e+00],\n",
      "        [-1.2247e+00,  0.0000e+00,  1.2247e+00]],\n",
      "       grad_fn=<NativeLayerNormBackward0>)\n",
      "torch.Size([2, 3])\n"
     ]
    }
   ],
   "source": [
    "x = torch.Tensor([\n",
    "    [5,6,7],\n",
    "    [3,4,5]\n",
    "])\n",
    "print(x)\n",
    "print(x.shape)\n",
    "print()\n",
    "\n",
    "\n",
    "x = nn.LayerNorm(x.shape[-1])(x)\n",
    "print(x)\n",
    "print(x.shape)\n"
   ]
  },
  {
   "cell_type": "markdown",
   "metadata": {},
   "source": []
  },
  {
   "cell_type": "markdown",
   "metadata": {},
   "source": []
  }
 ],
 "metadata": {
  "kernelspec": {
   "display_name": "torch",
   "language": "python",
   "name": "python3"
  },
  "language_info": {
   "codemirror_mode": {
    "name": "ipython",
    "version": 3
   },
   "file_extension": ".py",
   "mimetype": "text/x-python",
   "name": "python",
   "nbconvert_exporter": "python",
   "pygments_lexer": "ipython3",
   "version": "3.8.13"
  },
  "orig_nbformat": 4,
  "vscode": {
   "interpreter": {
    "hash": "65fe116ec29312474b580f4ecbad52a94f46ea3a142b15e85ff8e68848a207e7"
   }
  }
 },
 "nbformat": 4,
 "nbformat_minor": 2
}
