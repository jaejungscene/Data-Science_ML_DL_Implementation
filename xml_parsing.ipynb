{
 "cells": [
  {
   "cell_type": "code",
   "execution_count": 3,
   "metadata": {},
   "outputs": [
    {
     "name": "stdout",
     "output_type": "stream",
     "text": [
      "data\n",
      "<class 'str'>\n",
      "------------------------------\n",
      "country\n",
      "<class 'str'>\n",
      "------------------------------\n",
      "rank\n",
      "<class 'str'>\n",
      "------------------------------\n",
      "year\n",
      "<class 'str'>\n",
      "------------------------------\n",
      "gdppc\n",
      "<class 'str'>\n",
      "------------------------------\n",
      "neighbor\n",
      "<class 'str'>\n",
      "------------------------------\n",
      "neighbor\n",
      "<class 'str'>\n",
      "------------------------------\n",
      "country\n",
      "<class 'str'>\n",
      "------------------------------\n",
      "rank\n",
      "<class 'str'>\n",
      "------------------------------\n",
      "year\n",
      "<class 'str'>\n",
      "------------------------------\n",
      "gdppc\n",
      "<class 'str'>\n",
      "------------------------------\n",
      "neighbor\n",
      "<class 'str'>\n",
      "------------------------------\n",
      "country\n",
      "<class 'str'>\n",
      "------------------------------\n",
      "rank\n",
      "<class 'str'>\n",
      "------------------------------\n",
      "year\n",
      "<class 'str'>\n",
      "------------------------------\n",
      "gdppc\n",
      "<class 'str'>\n",
      "------------------------------\n",
      "neighbor\n",
      "<class 'str'>\n",
      "------------------------------\n",
      "neighbor\n",
      "<class 'str'>\n",
      "------------------------------\n"
     ]
    }
   ],
   "source": [
    "import xml.etree.ElementTree as ET\n",
    "\n",
    "doc = ET.parse('/home/ljj0512/private/workspace/test_xml.xml')\n",
    "root = doc.getroot()\n",
    "for tags in root.iter():\n",
    "    print(tags.tag)\n",
    "    print(type(tags.tag))\n",
    "    print('-'*30)\n",
    "# print(root)"
   ]
  },
  {
   "cell_type": "code",
   "execution_count": null,
   "metadata": {},
   "outputs": [],
   "source": []
  }
 ],
 "metadata": {
  "kernelspec": {
   "display_name": "Python 3.8.13 ('torch')",
   "language": "python",
   "name": "python3"
  },
  "language_info": {
   "codemirror_mode": {
    "name": "ipython",
    "version": 3
   },
   "file_extension": ".py",
   "mimetype": "text/x-python",
   "name": "python",
   "nbconvert_exporter": "python",
   "pygments_lexer": "ipython3",
   "version": "3.8.13"
  },
  "orig_nbformat": 4,
  "vscode": {
   "interpreter": {
    "hash": "65fe116ec29312474b580f4ecbad52a94f46ea3a142b15e85ff8e68848a207e7"
   }
  }
 },
 "nbformat": 4,
 "nbformat_minor": 2
}
